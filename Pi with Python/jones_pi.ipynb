{
 "cells": [
  {
   "cell_type": "markdown",
   "id": "11dd5da9",
   "metadata": {},
   "source": [
    "# Pi with python\n",
    "\n",
    "The goal of this first notebook is to get you started with setting up your python environment. \n",
    "\n",
    "[Download notebook :fontawesome-solid-download:](../pi.ipynb){: .md-button .md-button--primary download=\"pi.ipynb\"}\n",
    "\n",
    "The bare minimum required to run this notebook is\n",
    "\n",
    " - python: the language interpreter\n",
    " - numpy: a library for multidimensional array and much more\n",
    " - jupyter: a library that lets you open, edit and run notebooks like this one!\n",
    "\n",
    "Perhaps the most straightforward way to get started is simply to install the newly developed [jupyterlab app](https://github.com/jupyterlab/jupyterlab_app). This will have all necessary dependencies installed at this point. Later on you will need to install additionaly packages."
   ]
  },
  {
   "cell_type": "code",
   "execution_count": 1,
   "id": "7c6d4b2b",
   "metadata": {
    "ExecuteTime": {
     "end_time": "2021-10-03T15:44:43.237492Z",
     "start_time": "2021-10-03T15:44:43.094097Z"
    }
   },
   "outputs": [],
   "source": [
    "# we tell the interpreter that we will use numpy \n",
    "import numpy as np\n"
   ]
  },
  {
   "cell_type": "code",
   "execution_count": 2,
   "id": "bf8fbcc5",
   "metadata": {
    "ExecuteTime": {
     "end_time": "2021-10-03T15:44:43.395313Z",
     "start_time": "2021-10-03T15:44:43.238682Z"
    }
   },
   "outputs": [
    {
     "name": "stdout",
     "output_type": "stream",
     "text": [
      "/Users/connorjones/mystuff\n"
     ]
    }
   ],
   "source": [
    "%load_ext autoreload\n",
    "%autoreload 2\n",
    "\n",
    "# the following loads my solution file, which you do not have! \n",
    "# you should comment the following line, or create your solution in solutions/sol_ols.py\n",
    "%cd /Users/connorjones/mystuff"
   ]
  },
  {
   "cell_type": "markdown",
   "id": "85f9de1a",
   "metadata": {},
   "source": [
    "## Computing Pi by numerical integration\n",
    "\n",
    "Our goal is simply to compute an approximation to the constant $\\pi$. We are going to do this in a very very crude way. You can read more about computing approximation to the constant [here](https://fivethirtyeight.com/features/even-after-22-trillion-digits-were-still-no-closer-to-the-end-of-pi/)\n",
    "\n",
    "We are going to use the fact that the area under a circle with unit radius is equal to $\\pi$. Hence we can simply partitioned the unit square of $[0,1] x [0,1]$ into small squares and computer the area covered by squares that are inside the circle. This will give us an approximation to the constant. \n",
    "\n",
    "So, I ask you to simlpy write a function that takes a number $n$ which is the number of blocks in which to split the $x$ and $y$ coordinates of the unit square (ie we have $n^2$ little squares). \n",
    "\n",
    "This function should then return the area covered by small squares that are fully included under the unit circle, as well as the area covered by small squares fully covered as well as partially covered. The first number should be lower bound on $\\pi$ and the second number should be an upper bound. You need to multiply your number by 4 since we are focusing on the top right quadrant.\n",
    "\n",
    "You can implement this function by computing a naive double for loop. We are simpy trying to get acquainted with python at this point. As a matter of fact, this could be implemented without numpy.\n",
    "\n",
    "Here is the outcome of the function I wrote:"
   ]
  },
  {
   "cell_type": "code",
   "execution_count": 3,
   "id": "4ff59919",
   "metadata": {},
   "outputs": [],
   "source": [
    "def compute_pi_helper(blk_num, corner):\n",
    "    xy_values = np.empty([blk_num*blk_num, 2], dtype=float)\n",
    "    blk_inc = 1 / blk_num  \n",
    "    for x in range(blk_num + 1):\n",
    "        start = int(blk_num*(x-1))\n",
    "        finish = int(blk_num * x)\n",
    "        if corner == \"right\":\n",
    "            height = x\n",
    "        else:\n",
    "            height = x - 1\n",
    "        x_val = blk_inc * height\n",
    "        for y in range(blk_num):\n",
    "            if corner == \"right\":\n",
    "                side = y + 1\n",
    "            else:\n",
    "                side = y\n",
    "            y_val = blk_inc * side\n",
    "            xy_values[start+y] = [x_val, y_val]\n",
    "    return xy_values;\n",
    "\n",
    "\n",
    "def area_calc(array):\n",
    "    blk_inc = float(1 / np.sqrt(len(array)))\n",
    "    origin = [0,0]\n",
    "    count = 0\n",
    "    for x in range(len(array)):\n",
    "        if np.linalg.norm(origin-array[x]) < 1:\n",
    "            count = count + 1\n",
    "        else:\n",
    "            count = count\n",
    "    return (count * blk_inc**2) * 4;\n",
    "\n",
    "\n",
    "def compute_pi(num_sqr):\n",
    "    under = area_calc(compute_pi_helper(num_sqr, \"right\"))\n",
    "    over = area_calc(compute_pi_helper(num_sqr, \"left\"))\n",
    "    return [under, over];"
   ]
  },
  {
   "cell_type": "code",
   "execution_count": 4,
   "id": "59b35683",
   "metadata": {
    "ExecuteTime": {
     "end_time": "2021-10-03T15:47:06.982505Z",
     "start_time": "2021-10-03T15:47:06.547761Z"
    }
   },
   "outputs": [],
   "source": [
    "s = compute_pi(1000)"
   ]
  },
  {
   "cell_type": "markdown",
   "id": "44ce1e11",
   "metadata": {},
   "source": [
    "We can compare this values to the value of $\\pi$"
   ]
  },
  {
   "cell_type": "code",
   "execution_count": 5,
   "id": "8fd092bf",
   "metadata": {
    "ExecuteTime": {
     "end_time": "2021-10-03T15:47:08.132422Z",
     "start_time": "2021-10-03T15:47:08.123366Z"
    }
   },
   "outputs": [
    {
     "data": {
      "text/plain": [
       "3.141592653589793"
      ]
     },
     "execution_count": 5,
     "metadata": {},
     "output_type": "execute_result"
    }
   ],
   "source": [
    "np.pi"
   ]
  },
  {
   "cell_type": "code",
   "execution_count": 6,
   "id": "2eb5b57d",
   "metadata": {
    "ExecuteTime": {
     "end_time": "2021-10-03T15:47:29.118131Z",
     "start_time": "2021-10-03T15:47:29.107630Z"
    }
   },
   "outputs": [],
   "source": [
    "# we apply a simple test\n",
    "assert s[0] < np.pi\n",
    "assert s[1] > np.pi"
   ]
  },
  {
   "cell_type": "markdown",
   "id": "fc72ae22",
   "metadata": {},
   "source": [
    "## Run several times\n",
    "\n",
    "Do this for values of n between 10 and 1000 with steps of 100. Construct your response using python list comprehension. Store the vector of values in N and the results in R."
   ]
  },
  {
   "cell_type": "code",
   "execution_count": 7,
   "id": "dd850b14",
   "metadata": {},
   "outputs": [],
   "source": [
    "def repeat_pi():\n",
    "    array = [None] * 10\n",
    "    n = [None] * 10\n",
    "    for x in range(0,10):\n",
    "        array[x] = compute_pi((100*x)+10)\n",
    "        n[x] = (100*x)+10\n",
    "        print(x)\n",
    "    return [n, np.array(array)];"
   ]
  },
  {
   "cell_type": "code",
   "execution_count": 8,
   "id": "5ab484a5",
   "metadata": {
    "ExecuteTime": {
     "end_time": "2021-10-03T15:45:02.923603Z",
     "start_time": "2021-10-03T15:44:43.858815Z"
    }
   },
   "outputs": [
    {
     "name": "stdout",
     "output_type": "stream",
     "text": [
      "0\n",
      "1\n",
      "2\n",
      "3\n",
      "4\n",
      "5\n",
      "6\n",
      "7\n",
      "8\n",
      "9\n"
     ]
    },
    {
     "data": {
      "text/plain": [
       "array([[2.68      , 3.44      ],\n",
       "       [3.10247934, 3.17487603],\n",
       "       [3.12145125, 3.15945578],\n",
       "       [3.12844953, 3.15421436],\n",
       "       [3.13135039, 3.15083879],\n",
       "       [3.13347174, 3.14914264],\n",
       "       [3.13463048, 3.14773448],\n",
       "       [3.13582226, 3.14708193],\n",
       "       [3.13659503, 3.14646548],\n",
       "       [3.13702693, 3.14581331]])"
      ]
     },
     "execution_count": 8,
     "metadata": {},
     "output_type": "execute_result"
    }
   ],
   "source": [
    "N,R = repeat_pi()\n",
    "R"
   ]
  },
  {
   "cell_type": "code",
   "execution_count": 9,
   "id": "aeb43f3a",
   "metadata": {
    "ExecuteTime": {
     "end_time": "2021-10-03T15:49:54.348772Z",
     "start_time": "2021-10-03T15:49:54.338579Z"
    }
   },
   "outputs": [],
   "source": [
    "# we apply a simple test\n",
    "assert (R[9,0] - np.pi)**2 < 1e-3\n",
    "assert (R[9,1] - np.pi)**2 < 1e-3\n",
    "\n",
    "# we check that the precision is increasing for a couple of values\n",
    "assert (R[6,0] - np.pi)**2 < (R[5,0] - np.pi)**2\n",
    "assert (R[6,1] - np.pi)**2 < (R[5,1] - np.pi)**2"
   ]
  },
  {
   "cell_type": "markdown",
   "id": "12e52733",
   "metadata": {},
   "source": [
    "Next we import matplotlib and plot our results. We plot both bounds."
   ]
  },
  {
   "cell_type": "code",
   "execution_count": 10,
   "id": "198fc883",
   "metadata": {
    "ExecuteTime": {
     "end_time": "2021-10-03T15:45:03.047412Z",
     "start_time": "2021-10-03T15:45:02.924363Z"
    }
   },
   "outputs": [
    {
     "data": {
      "image/png": "[encoded data removed]",
      "text/plain": [
       "<Figure size 432x288 with 1 Axes>"
      ]
     },
     "metadata": {
      "needs_background": "light"
     },
     "output_type": "display_data"
    }
   ],
   "source": [
    "import matplotlib.pyplot as plt\n",
    "plt.plot(N,R)\n",
    "plt.xlabel(\"log n\")\n",
    "plt.ylabel(\"bounds\")\n",
    "plt.show()"
   ]
  },
  {
   "cell_type": "markdown",
   "id": "89c61ff8",
   "metadata": {},
   "source": [
    "Use matplotlib to plot the log distance between the 2 bounds versus the log of n. Given your results, and assuming linearity in this representation, how large would n have to be to get to the precision listed in the article linked at the begining? Given how long your function is taking, how much time would that be using this crude approach?"
   ]
  },
  {
   "cell_type": "code",
   "execution_count": 11,
   "id": "2c841510",
   "metadata": {},
   "outputs": [],
   "source": [
    "def plot_pi1(N,R):\n",
    "    logn = np.log(N)\n",
    "    logr = np.log(R)\n",
    "    log_diff = [None] * 10\n",
    "    for x in range(len(R)):\n",
    "        log_diff[x] = logr[x][1] - logr[x][0]\n",
    "    plt.plot(logn,log_diff)\n",
    "    plt.xlabel(\"log n\")\n",
    "    plt.ylabel(\"bounds\")\n",
    "    return plt.show();\n",
    "\n",
    "def plot_pi(N,R):\n",
    "    logn = np.log(N)\n",
    "    diff = [None] * 10\n",
    "    for x in range(len(R)):\n",
    "        diff[x] = R[x][1] - R[x][0]\n",
    "    log_diff = np.log(diff)\n",
    "    plt.plot(logn,log_diff)\n",
    "    plt.xlabel(\"log n\")\n",
    "    plt.ylabel(\"bounds\")\n",
    "    return plt.show();"
   ]
  },
  {
   "cell_type": "code",
   "execution_count": 12,
   "id": "91020e1e",
   "metadata": {
    "ExecuteTime": {
     "end_time": "2021-10-03T15:45:03.106155Z",
     "start_time": "2021-10-03T15:45:03.048369Z"
    }
   },
   "outputs": [
    {
     "data": {
      "image/png": "[encoded data removed]",
      "text/plain": [
       "<Figure size 432x288 with 1 Axes>"
      ]
     },
     "metadata": {
      "needs_background": "light"
     },
     "output_type": "display_data"
    }
   ],
   "source": [
    "plot_pi(N,R)"
   ]
  },
  {
   "cell_type": "markdown",
   "id": "e6082cae",
   "metadata": {},
   "source": [
    "In order to reach the level of precision cited in the article it would take increasing the number of squares used by several orders of magnitude beyond 1000 squares.  Givin that the function run time increases exponentially for each additional division, reaching that level of precision would take a very long time as the function already requires nearly a minute to run."
   ]
  },
  {
   "cell_type": "markdown",
   "id": "78328a0a",
   "metadata": {},
   "source": [
    "## Use draws instead\n",
    "\n",
    "As we all know, an expectation is an integral, and an area is also an integral. Instead of cutting out the unit square inm smaller square, we can simply draw points uniformaly. \n",
    "\n",
    "Express a $G(x,y)$ function wich is 1 if $x,y$ is in the unit circle and 0 otherwise. Then if we draw $x$ and $y$ from the unit square as before we should get that:\n",
    "\n",
    "$$ \\mathbb{E} \\big[ G(x,y) \\big] = \\frac{\\pi}{4} $$\n",
    "\n",
    "Draw n uniform $x$ and $y$ using the right function from [numpy.random](https://numpy.org/doc/1.16/reference/routines.random.html) and compute the expecation over your draws. Compare this value to $\\pi$."
   ]
  },
  {
   "cell_type": "code",
   "execution_count": 13,
   "id": "f01579fc",
   "metadata": {},
   "outputs": [],
   "source": [
    "def sim_pi(num_draw):  \n",
    "    x_sim = np.random.uniform(1,0,num_draw)\n",
    "    y_sim = np.random.uniform(1,0,num_draw)\n",
    "    xy_sim = np.column_stack((x_sim, y_sim))\n",
    "    origin = [0,0]\n",
    "    count = 0\n",
    "    for x in range(len(xy_sim)):\n",
    "        if np.linalg.norm(origin-xy_sim[x]) < 1:\n",
    "            count = count + 1\n",
    "        else:\n",
    "            count = count\n",
    "    return (count / num_draw) * 4;\n",
    "\n",
    "# ttest3 = [None] * R\n",
    "# ttest3 = list(map(lambda x: q4_helper(data), ttest3))"
   ]
  },
  {
   "cell_type": "code",
   "execution_count": 14,
   "id": "aafcc96b",
   "metadata": {
    "ExecuteTime": {
     "end_time": "2021-10-03T15:50:43.653416Z",
     "start_time": "2021-10-03T15:50:43.641528Z"
    }
   },
   "outputs": [
    {
     "data": {
      "text/plain": [
       "3.1404"
      ]
     },
     "execution_count": 14,
     "metadata": {},
     "output_type": "execute_result"
    }
   ],
   "source": [
    "np.random.seed(10) # set the seed to fix randomness\n",
    "\n",
    "pi_hat = sim_pi(100000)\n",
    "pi_hat"
   ]
  },
  {
   "cell_type": "code",
   "execution_count": 15,
   "id": "e65aaa8a",
   "metadata": {
    "ExecuteTime": {
     "end_time": "2021-10-03T15:50:44.546896Z",
     "start_time": "2021-10-03T15:50:44.537883Z"
    }
   },
   "outputs": [],
   "source": [
    "# we run a simple test\n",
    "assert (pi_hat - np.pi)**2 < 1e-3"
   ]
  }
 ],
 "metadata": {
  "kernelspec": {
   "display_name": "Python [conda env:econ31340-env] *",
   "language": "python",
   "name": "conda-env-econ31340-env-py"
  },
  "language_info": {
   "codemirror_mode": {
    "name": "ipython",
    "version": 3
   },
   "file_extension": ".py",
   "mimetype": "text/x-python",
   "name": "python",
   "nbconvert_exporter": "python",
   "pygments_lexer": "ipython3",
   "version": "3.7.11"
  },
  "toc": {
   "base_numbering": 1,
   "nav_menu": {},
   "number_sections": true,
   "sideBar": true,
   "skip_h1_title": false,
   "title_cell": "Table of Contents",
   "title_sidebar": "Contents",
   "toc_cell": false,
   "toc_position": {},
   "toc_section_display": true,
   "toc_window_display": false
  }
 },
 "nbformat": 4,
 "nbformat_minor": 5
}
