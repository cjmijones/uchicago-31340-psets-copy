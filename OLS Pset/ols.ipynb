{
 "cells": [
  {
   "cell_type": "markdown",
   "metadata": {},
   "source": [
    "\n",
    "# OLS\n",
    "\n",
    "[Download notebook :fontawesome-solid-download:](../ols.ipynb){: .md-button .md-button--primary download=\"ols.ipynb\"}\n",
    "\n",
    "Very simple notebook to get started with python, simulating and estimating. In this homework, we hope to learn\n",
    "\n",
    "- setup an python environment, see [getting started](http://econ21340.lamadon.com/getting-started/).\n",
    "- familiarize ourselves with basic [numpy](https://numpy.org/)\n",
    "- familiarize ourselves with [keras](https://keras.io/)\n",
    "\n",
    "We consider the simple linear model \n",
    "\n",
    "$$ y_i = \\beta x_i + \\epsilon_i $$"
   ]
  },
  {
   "cell_type": "code",
   "execution_count": 1,
   "metadata": {
    "ExecuteTime": {
     "end_time": "2020-10-10T20:11:42.502477Z",
     "start_time": "2020-10-10T20:11:42.485907Z"
    }
   },
   "outputs": [
    {
     "name": "stdout",
     "output_type": "stream",
     "text": [
      "/Users/connorjones/mystuff/uchicago-31340-psets\n"
     ]
    }
   ],
   "source": [
    "%cd ..\n",
    "%load_ext autoreload\n",
    "%autoreload 2\n",
    "import numpy as np\n",
    "\n",
    "# the following loads my solution file, which you do not have! \n",
    "# you should comment the following line, or create your solution in solutions/sol_ols.py\n",
    "# from solutions.sol_ols import *\n"
   ]
  },
  {
   "cell_type": "markdown",
   "metadata": {},
   "source": [
    "## Simulate data\n",
    "We start by simulating data of N observations and K regressors. We keep everything normal to keep things simple."
   ]
  },
  {
   "cell_type": "code",
   "execution_count": 2,
   "metadata": {
    "ExecuteTime": {
     "end_time": "2020-10-10T20:11:42.526130Z",
     "start_time": "2020-10-10T20:11:42.503785Z"
    }
   },
   "outputs": [],
   "source": [
    "N = 1000\n",
    "K = 10\n",
    "X = np.random.normal(size = (N,K))\n",
    "E = np.random.normal(size = N)\n",
    "beta = np.linspace(0,1,num=K)\n",
    "\n",
    "Y = np.matmul(X,beta) + E"
   ]
  },
  {
   "cell_type": "markdown",
   "metadata": {},
   "source": [
    "As you can see we make extensive use of vector operations from the [numpy](https://numpy.org/) package."
   ]
  },
  {
   "cell_type": "code",
   "execution_count": 3,
   "metadata": {
    "ExecuteTime": {
     "end_time": "2020-10-10T20:11:45.878987Z",
     "start_time": "2020-10-10T20:11:42.527722Z"
    }
   },
   "outputs": [
    {
     "data": {
      "image/png": "[encoded data removed]",
      "text/plain": [
       "<Figure size 432x288 with 1 Axes>"
      ]
     },
     "metadata": {
      "needs_background": "light"
     },
     "output_type": "display_data"
    }
   ],
   "source": [
    "import matplotlib.pyplot as plt\n",
    "plt.plot(np.matmul(X,beta),Y,'.')\n",
    "plt.show()"
   ]
  },
  {
   "cell_type": "markdown",
   "metadata": {},
   "source": [
    "## Solve using numpy and linear algebra"
   ]
  },
  {
   "cell_type": "markdown",
   "metadata": {},
   "source": [
    "!!! question\n",
    "    This is the first question. Write your own `numpy_ols` function, which takes as an input `(Y,X)` and returns the OLS estimates. You only need to use two numpy functions `np.transpose`, `np.matmul` and `np.linalg.solve`. The function should just a few lines.\n",
    "    \n",
    "We use the created function (in this document it is using the one that I wrote) and we then plot the estimated $\\beta$ versus the true $\\beta$.    "
   ]
  },
  {
   "cell_type": "code",
   "execution_count": 4,
   "metadata": {
    "ExecuteTime": {
     "end_time": "2020-10-10T20:11:45.975482Z",
     "start_time": "2020-10-10T20:11:45.880288Z"
    },
    "scrolled": true
   },
   "outputs": [
    {
     "data": {
      "image/png": "[encoded data removed]",
      "text/plain": [
       "<Figure size 432x288 with 1 Axes>"
      ]
     },
     "metadata": {
      "needs_background": "light"
     },
     "output_type": "display_data"
    }
   ],
   "source": [
    "def abline(slope, intercept):\n",
    "    \"\"\"Plot a line from slope and intercept\"\"\"\n",
    "    axes = plt.gca()\n",
    "    x_vals = np.array(axes.get_xlim())\n",
    "    y_vals = intercept + slope * x_vals\n",
    "    plt.plot(x_vals, y_vals, '--')\n",
    "\n",
    "def numpy_ols(Y, X):\n",
    "    inside = np.matmul(np.transpose(X), X)\n",
    "    alpha = np.linalg.solve(inside, np.identity(K))\n",
    "    inv_trn = np.matmul(alpha, np.transpose(X))\n",
    "    r = np.matmul(inv_trn, Y)\n",
    "    return r;\n",
    "\n",
    "beta_hat = numpy_ols(Y,X)\n",
    "plt.plot(beta,beta_hat,'x')\n",
    "abline(1,0)\n",
    "plt.show()"
   ]
  },
  {
   "cell_type": "markdown",
   "metadata": {},
   "source": [
    "## Solve using Keras"
   ]
  },
  {
   "cell_type": "markdown",
   "metadata": {},
   "source": [
    "Now we are going to make an overkill, which is to use [Keras](https://keras.io/) to solve this linear problem. Kera allows to build models by composing layers. For instance, here, imagine I wanted to fit a neural net on the data I have generated, I would do the following:"
   ]
  },
  {
   "cell_type": "code",
   "execution_count": 5,
   "metadata": {
    "ExecuteTime": {
     "end_time": "2020-10-10T20:11:45.991433Z",
     "start_time": "2020-10-10T20:11:45.976642Z"
    }
   },
   "outputs": [
    {
     "name": "stderr",
     "output_type": "stream",
     "text": [
      "Using TensorFlow backend.\n"
     ]
    }
   ],
   "source": [
    "from keras.models import Sequential\n",
    "from keras.layers.core import Dense, Activation"
   ]
  },
  {
   "cell_type": "code",
   "execution_count": 6,
   "metadata": {
    "ExecuteTime": {
     "end_time": "2020-10-10T20:11:46.065965Z",
     "start_time": "2020-10-10T20:11:45.992582Z"
    }
   },
   "outputs": [
    {
     "name": "stdout",
     "output_type": "stream",
     "text": [
      "Model: \"sequential_1\"\n",
      "_________________________________________________________________\n",
      "Layer (type)                 Output Shape              Param #   \n",
      "=================================================================\n",
      "dense_1 (Dense)              (None, 1)                 11        \n",
      "_________________________________________________________________\n",
      "activation_1 (Activation)    (None, 1)                 0         \n",
      "=================================================================\n",
      "Total params: 11\n",
      "Trainable params: 11\n",
      "Non-trainable params: 0\n",
      "_________________________________________________________________\n"
     ]
    },
    {
     "name": "stderr",
     "output_type": "stream",
     "text": [
      "2021-10-21 20:57:08.205527: I tensorflow/core/platform/cpu_feature_guard.cc:145] This TensorFlow binary is optimized with Intel(R) MKL-DNN to use the following CPU instructions in performance critical operations:  SSE4.1 SSE4.2 AVX AVX2 FMA\n",
      "To enable them in non-MKL-DNN operations, rebuild TensorFlow with the appropriate compiler flags.\n",
      "2021-10-21 20:57:08.206027: I tensorflow/core/common_runtime/process_util.cc:115] Creating new thread pool with default inter op setting: 4. Tune using inter_op_parallelism_threads for best performance.\n"
     ]
    }
   ],
   "source": [
    "model = Sequential()\n",
    "model.add(Dense(1, input_shape=(K,)))\n",
    "model.add(Activation('sigmoid'))\n",
    "model.summary()"
   ]
  },
  {
   "cell_type": "markdown",
   "metadata": {},
   "source": [
    "The first layer is a [Dense layer](https://keras.io/layers/core/), and it implements the following transformation:\n",
    "$$ l_i = \\sum_{k=1}^K w_k Z_{ik} $$\n",
    "for a set of weights $w_k$ that we want to estimate and some input $Z_{ik}$. Later on we will feed `bacthes` from X to this.\n",
    "\n",
    "Because we are using a `sequential` construction, the second layer takes the output $l_i$ of the first layer and generate an output\n",
    "$$ \\hat{y}_i = g(l_i) $$\n",
    "for some non linear function refered to as activation functions. \n",
    "\n",
    "See this [description of activation functions](https://ml-cheatsheet.readthedocs.io/en/latest/activation_functions.html) including the [one we have specificed](https://ml-cheatsheet.readthedocs.io/en/latest/activation_functions.html#sigmoid).\n",
    "\n",
    "The next command initializes the model, specifies the optimzer to use and specifies the loss function to minimize. Here we will try to minimize the square loss between provided output and model output:\n",
    "\n",
    "$$ \\min_{w_k} \\sum_i (\\hat{y}_i - y_i)^2 $$"
   ]
  },
  {
   "cell_type": "code",
   "execution_count": 7,
   "metadata": {
    "ExecuteTime": {
     "end_time": "2020-10-10T20:11:46.087767Z",
     "start_time": "2020-10-10T20:11:46.067047Z"
    }
   },
   "outputs": [],
   "source": [
    "model.compile(optimizer='adam', loss='mse')"
   ]
  },
  {
   "cell_type": "markdown",
   "metadata": {},
   "source": [
    "It is finally time to feed the data to our model. We specify the input $X$, the output $Y$, the number of passes we want to do on the data `epochs` as well as the size of the batches, meaning the numbers of $i$ observation to give at the same time to compute one update step of the optimizer."
   ]
  },
  {
   "cell_type": "code",
   "execution_count": 8,
   "metadata": {
    "ExecuteTime": {
     "end_time": "2020-10-10T20:11:47.647891Z",
     "start_time": "2020-10-10T20:11:46.089547Z"
    }
   },
   "outputs": [],
   "source": [
    "hist = model.fit(X, Y, epochs=100, batch_size=50, verbose=0)"
   ]
  },
  {
   "cell_type": "markdown",
   "metadata": {},
   "source": [
    "We then extract the estimated weights $w_k$ and compare them to the $\\beta$ that generated the data."
   ]
  },
  {
   "cell_type": "code",
   "execution_count": 9,
   "metadata": {
    "ExecuteTime": {
     "end_time": "2020-10-10T20:11:47.741293Z",
     "start_time": "2020-10-10T20:11:47.649208Z"
    }
   },
   "outputs": [
    {
     "data": {
      "image/png": "[encoded data removed]",
      "text/plain": [
       "<Figure size 432x288 with 1 Axes>"
      ]
     },
     "metadata": {
      "needs_background": "light"
     },
     "output_type": "display_data"
    }
   ],
   "source": [
    "beta_keras = model.layers[0].get_weights()[0]\n",
    "plt.plot(beta,beta_keras[0:K],'x')\n",
    "abline(1,0)\n",
    "plt.show()"
   ]
  },
  {
   "cell_type": "markdown",
   "metadata": {},
   "source": [
    "!!! question \n",
    "    Question 2: Clearly the neural net that we used doesn't deliver the right estimates for $\\beta$. The functional form that we specified when creating the model ressembles more a `logit` than a linear model. Given what you know about the shape of the Dense layer and the Sigmoid activation, modify the model in order to have a functional form identical to the linear form. Either replace the `model2 = kera_linear(K)` int he following code or write you own to try to get a good fit."
   ]
  },
  {
   "cell_type": "code",
   "execution_count": 10,
   "metadata": {
    "ExecuteTime": {
     "end_time": "2020-10-10T20:11:49.068233Z",
     "start_time": "2020-10-10T20:11:47.742400Z"
    }
   },
   "outputs": [
    {
     "name": "stdout",
     "output_type": "stream",
     "text": [
      "Model: \"sequential_2\"\n",
      "_________________________________________________________________\n",
      "Layer (type)                 Output Shape              Param #   \n",
      "=================================================================\n",
      "dense_2 (Dense)              (None, 1)                 11        \n",
      "_________________________________________________________________\n",
      "activation_2 (Activation)    (None, 1)                 0         \n",
      "=================================================================\n",
      "Total params: 11\n",
      "Trainable params: 11\n",
      "Non-trainable params: 0\n",
      "_________________________________________________________________\n"
     ]
    },
    {
     "data": {
      "image/png": "[encoded data removed]",
      "text/plain": [
       "<Figure size 432x288 with 1 Axes>"
      ]
     },
     "metadata": {
      "needs_background": "light"
     },
     "output_type": "display_data"
    }
   ],
   "source": [
    "model2 = Sequential()\n",
    "model2.add(Dense(1, input_shape=(K,)))\n",
    "model2.add(Activation('linear'))\n",
    "model2.summary()\n",
    "\n",
    "model2.compile(optimizer='adam', loss='mse')\n",
    "hist2 = model2.fit(X, Y, epochs=100, batch_size=50, verbose=0);\n",
    "beta_keras = model2.layers[0].get_weights()[0]\n",
    "plt.plot(beta,beta_keras[0:K],'x')\n",
    "abline(1,0)"
   ]
  },
  {
   "cell_type": "markdown",
   "metadata": {},
   "source": [
    "##### Fitting non-linear functions"
   ]
  },
  {
   "cell_type": "markdown",
   "metadata": {},
   "source": [
    "Let's step it up! Let's try to fit a non linear function of one variable. We are going to use the `cos` function."
   ]
  },
  {
   "cell_type": "code",
   "execution_count": 11,
   "metadata": {
    "ExecuteTime": {
     "end_time": "2020-10-10T20:11:49.085671Z",
     "start_time": "2020-10-10T20:11:49.069415Z"
    }
   },
   "outputs": [],
   "source": [
    "X = 10*np.random.uniform(size = N)\n",
    "Y = np.cos(X) + 0.5*np.random.normal(size = N)"
   ]
  },
  {
   "cell_type": "markdown",
   "metadata": {},
   "source": [
    "As we can see, this is a function which is neither linear or a simple activation function:"
   ]
  },
  {
   "cell_type": "code",
   "execution_count": 12,
   "metadata": {
    "ExecuteTime": {
     "end_time": "2020-10-10T20:11:49.167587Z",
     "start_time": "2020-10-10T20:11:49.086803Z"
    }
   },
   "outputs": [
    {
     "data": {
      "image/png": "[encoded data removed]",
      "text/plain": [
       "<Figure size 432x288 with 1 Axes>"
      ]
     },
     "metadata": {
      "needs_background": "light"
     },
     "output_type": "display_data"
    }
   ],
   "source": [
    "plt.plot(X,Y,'o')\n",
    "plt.show()"
   ]
  },
  {
   "cell_type": "markdown",
   "metadata": {},
   "source": [
    "This is where multilayers shine! We create the following model:"
   ]
  },
  {
   "cell_type": "code",
   "execution_count": 13,
   "metadata": {
    "ExecuteTime": {
     "end_time": "2020-10-10T20:11:49.221075Z",
     "start_time": "2020-10-10T20:11:49.168739Z"
    }
   },
   "outputs": [
    {
     "name": "stdout",
     "output_type": "stream",
     "text": [
      "Model: \"sequential_3\"\n",
      "_________________________________________________________________\n",
      "Layer (type)                 Output Shape              Param #   \n",
      "=================================================================\n",
      "dense_3 (Dense)              (None, 20)                40        \n",
      "_________________________________________________________________\n",
      "activation_3 (Activation)    (None, 20)                0         \n",
      "_________________________________________________________________\n",
      "dense_4 (Dense)              (None, 1)                 21        \n",
      "_________________________________________________________________\n",
      "activation_4 (Activation)    (None, 1)                 0         \n",
      "_________________________________________________________________\n",
      "dense_5 (Dense)              (None, 1)                 2         \n",
      "=================================================================\n",
      "Total params: 63\n",
      "Trainable params: 63\n",
      "Non-trainable params: 0\n",
      "_________________________________________________________________\n"
     ]
    }
   ],
   "source": [
    "model3 = Sequential()\n",
    "model3.add(Dense(20, input_shape=(1,)))\n",
    "model3.add(Activation('elu'))\n",
    "model3.add(Dense(1))\n",
    "model3.add(Activation('elu'))\n",
    "model3.add(Dense(1))\n",
    "model3.summary()"
   ]
  },
  {
   "cell_type": "markdown",
   "metadata": {},
   "source": [
    "!!! question\n",
    "    Explain in your own words the structure of this neural net! How many input, what are each layers. Next write your own `fit_model3` function which takes X and Y and model3 and fits it. You needs to adapt the few line of codes that we have used in previous sections. You will also need to play a bit with batch sizes and epochs to succeed in achieving a good fit, as in the following figure."
   ]
  },
  {
   "cell_type": "code",
   "execution_count": 17,
   "metadata": {
    "ExecuteTime": {
     "end_time": "2020-10-10T20:11:55.661647Z",
     "start_time": "2020-10-10T20:11:49.222147Z"
    }
   },
   "outputs": [],
   "source": [
    "def fit_model3(model,X,Y):\n",
    "    model.compile(optimizer='adam', loss='mse')\n",
    "    hist3 = model.fit(X, Y, epochs=500, batch_size=75, verbose=0);\n",
    "    beta_keras = model.layers[2].get_weights()[0]\n",
    "    return;\n",
    "\n",
    "fit_model3(model3,X,Y)\n"
   ]
  },
  {
   "cell_type": "markdown",
   "metadata": {},
   "source": [
    "We then construct the predition from the model and plot it on top of the data! Voila!"
   ]
  },
  {
   "cell_type": "code",
   "execution_count": 18,
   "metadata": {
    "ExecuteTime": {
     "end_time": "2020-10-10T20:11:55.888458Z",
     "start_time": "2020-10-10T20:11:55.662653Z"
    }
   },
   "outputs": [
    {
     "data": {
      "image/png": "[encoded data removed]",
      "text/plain": [
       "<Figure size 432x288 with 1 Axes>"
      ]
     },
     "metadata": {
      "needs_background": "light"
     },
     "output_type": "display_data"
    }
   ],
   "source": [
    "Xp = np.linspace(0,10,num=50)\n",
    "Yp = model3.predict(Xp)\n",
    "plt.plot(X,Y,'o')\n",
    "plt.plot(Xp,Yp,'-')\n",
    "plt.show()"
   ]
  },
  {
   "cell_type": "code",
   "execution_count": null,
   "metadata": {},
   "outputs": [],
   "source": []
  }
 ],
 "metadata": {
  "file_extension": ".py",
  "kernelspec": {
   "display_name": "econ31340-env",
   "language": "python",
   "name": "econ31340-env"
  },
  "language_info": {
   "codemirror_mode": {
    "name": "ipython",
    "version": 3
   },
   "file_extension": ".py",
   "mimetype": "text/x-python",
   "name": "python",
   "nbconvert_exporter": "python",
   "pygments_lexer": "ipython3",
   "version": "3.7.11"
  },
  "mimetype": "text/x-python",
  "name": "python",
  "npconvert_exporter": "python",
  "pygments_lexer": "ipython3",
  "toc": {
   "base_numbering": 1,
   "nav_menu": {},
   "number_sections": true,
   "sideBar": true,
   "skip_h1_title": false,
   "title_cell": "Table of Contents",
   "title_sidebar": "Contents",
   "toc_cell": false,
   "toc_position": {},
   "toc_section_display": true,
   "toc_window_display": false
  },
  "varInspector": {
   "cols": {
    "lenName": 16,
    "lenType": 16,
    "lenVar": 40
   },
   "kernels_config": {
    "python": {
     "delete_cmd_postfix": "",
     "delete_cmd_prefix": "del ",
     "library": "var_list.py",
     "varRefreshCmd": "print(var_dic_list())"
    },
    "r": {
     "delete_cmd_postfix": ") ",
     "delete_cmd_prefix": "rm(",
     "library": "var_list.r",
     "varRefreshCmd": "cat(var_dic_list()) "
    }
   },
   "oldHeight": 240,
   "position": {
    "height": "257px",
    "left": "695px",
    "right": "20px",
    "top": "804px",
    "width": "563px"
   },
   "types_to_exclude": [
    "module",
    "function",
    "builtin_function_or_method",
    "instance",
    "_Feature"
   ],
   "varInspector_section_display": "block",
   "window_display": false
  },
  "version": 3
 },
 "nbformat": 4,
 "nbformat_minor": 4
}
